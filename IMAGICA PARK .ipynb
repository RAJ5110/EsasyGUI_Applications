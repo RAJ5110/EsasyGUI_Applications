{
 "cells": [
  {
   "cell_type": "markdown",
   "metadata": {},
   "source": [
    "## IMAGICA PARK --- AMUSEMENT PARK"
   ]
  },
  {
   "cell_type": "code",
   "execution_count": null,
   "metadata": {
    "collapsed": false
   },
   "outputs": [],
   "source": [
    "from easygui import *\n",
    "fo = open(\"login_info.txt\", \"wb\")\n",
    "msg = \"Enter logon information\"\n",
    "title = \"User Login\"\n",
    "fieldNames = [ \"User ID\", \"Password\"]\n",
    "fieldValues = []  # we start with blanks for the values\n",
    "fieldValues = multpasswordbox(msg,title, fieldNames)\n",
    "fo.write(fieldValues[0]+','+fieldValues[1])\n",
    "fo.close()"
   ]
  },
  {
   "cell_type": "code",
   "execution_count": null,
   "metadata": {
    "collapsed": false
   },
   "outputs": [],
   "source": [
    "fo = open(\"login_info.txt\", \"r+\")\n",
    "str1 = fo.read()\n",
    "login = str1.split(',')\n",
    "msg = \"Enter logon information\"\n",
    "title = \"User Login\"\n",
    "fieldNames = [ \"User ID\", \"Password\"]\n",
    "fieldValues = []  # we start with blanks for the values\n",
    "fieldValues = multpasswordbox(msg,title, fieldNames)\n",
    "\n",
    "if login[0] == fieldValues[0] and login[1] == fieldValues[1]:\n",
    "    print 'logged in'\n",
    "else:\n",
    "    print 'wrong credentials'"
   ]
  },
  {
   "cell_type": "code",
   "execution_count": null,
   "metadata": {
    "collapsed": false
   },
   "outputs": [],
   "source": [
    "\n",
    "        "
   ]
  },
  {
   "cell_type": "code",
   "execution_count": null,
   "metadata": {
    "collapsed": false
   },
   "outputs": [],
   "source": []
  },
  {
   "cell_type": "code",
   "execution_count": null,
   "metadata": {
    "collapsed": true
   },
   "outputs": [],
   "source": []
  }
 ],
 "metadata": {
  "kernelspec": {
   "display_name": "Python 2",
   "language": "python",
   "name": "python2"
  },
  "language_info": {
   "codemirror_mode": {
    "name": "ipython",
    "version": 2
   },
   "file_extension": ".py",
   "mimetype": "text/x-python",
   "name": "python",
   "nbconvert_exporter": "python",
   "pygments_lexer": "ipython2",
   "version": "2.7.13"
  }
 },
 "nbformat": 4,
 "nbformat_minor": 2
}
